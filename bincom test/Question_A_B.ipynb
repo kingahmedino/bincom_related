{
 "cells": [
  {
   "cell_type": "markdown",
   "metadata": {},
   "source": [
    "### Imports"
   ]
  },
  {
   "cell_type": "code",
   "execution_count": 7,
   "metadata": {
    "scrolled": false
   },
   "outputs": [],
   "source": [
    "import numpy as np\n",
    "import re as reg"
   ]
  },
  {
   "cell_type": "code",
   "execution_count": 8,
   "metadata": {},
   "outputs": [],
   "source": [
    "days = [\"MONDAY\", \"TUESDAY\", \"WEDNESDAY\", \"THURSDAY\", \"FRIDAY\"]"
   ]
  },
  {
   "cell_type": "markdown",
   "metadata": {},
   "source": [
    "#### extract colors from file using regex"
   ]
  },
  {
   "cell_type": "code",
   "execution_count": 9,
   "metadata": {},
   "outputs": [],
   "source": [
    "def extract_names(file):\n",
    "\tfile_open = open(file, \"r\")\n",
    "\tfile_content = file_open.read()\n",
    "\tfile_open.close()\n",
    "\t\n",
    "\tpattern = r\"([A-Z]+)*\"\n",
    "\treturn reg.findall(pattern, file_content)\n"
   ]
  },
  {
   "cell_type": "markdown",
   "metadata": {},
   "source": [
    "#### refactor list"
   ]
  },
  {
   "cell_type": "code",
   "execution_count": 10,
   "metadata": {
    "scrolled": true
   },
   "outputs": [],
   "source": [
    "color_list = (extract_names(\"python_class_test.html\"))"
   ]
  },
  {
   "cell_type": "code",
   "execution_count": 11,
   "metadata": {},
   "outputs": [],
   "source": [
    "color_list = [val for val in color_list if len(val) > 1]"
   ]
  },
  {
   "cell_type": "code",
   "execution_count": 12,
   "metadata": {
    "scrolled": true
   },
   "outputs": [],
   "source": [
    "del color_list[:15]"
   ]
  },
  {
   "cell_type": "code",
   "execution_count": 13,
   "metadata": {},
   "outputs": [],
   "source": [
    "for day in days:\n",
    "    if day in color_list:\n",
    "        color_list.remove(day)"
   ]
  },
  {
   "cell_type": "code",
   "execution_count": 14,
   "metadata": {},
   "outputs": [],
   "source": [
    "if \"BLEW\" in color_list:\n",
    "    color_list.remove(\"BLEW\")\n",
    "    color_list.append(\"BLUE\")"
   ]
  },
  {
   "cell_type": "markdown",
   "metadata": {},
   "source": [
    "### Getting Unique Values From List of Colors"
   ]
  },
  {
   "cell_type": "code",
   "execution_count": 15,
   "metadata": {},
   "outputs": [],
   "source": [
    "unique_values = []\n",
    "for color in color_list:\n",
    "    if color in unique_values:\n",
    "        continue\n",
    "    else:\n",
    "        unique_values.append(color)"
   ]
  },
  {
   "cell_type": "code",
   "execution_count": 16,
   "metadata": {},
   "outputs": [],
   "source": [
    "color = {}\n",
    "for val in unique_values:\n",
    "    color[val] = color_list.count(val)"
   ]
  },
  {
   "cell_type": "code",
   "execution_count": 17,
   "metadata": {},
   "outputs": [
    {
     "data": {
      "text/plain": [
       "{'GREEN': 10,\n",
       " 'YELLOW': 5,\n",
       " 'BROWN': 6,\n",
       " 'BLUE': 31,\n",
       " 'PINK': 5,\n",
       " 'ORANGE': 9,\n",
       " 'CREAM': 2,\n",
       " 'RED': 9,\n",
       " 'WHITE': 16,\n",
       " 'ARSH': 1,\n",
       " 'BLACK': 1}"
      ]
     },
     "execution_count": 17,
     "metadata": {},
     "output_type": "execute_result"
    }
   ],
   "source": [
    "color"
   ]
  },
  {
   "cell_type": "markdown",
   "metadata": {},
   "source": [
    "#### 1 Which color of shirt is the mean color?"
   ]
  },
  {
   "cell_type": "code",
   "execution_count": 23,
   "metadata": {},
   "outputs": [
    {
     "name": "stdout",
     "output_type": "stream",
     "text": [
      "8.636363636363637\n"
     ]
    }
   ],
   "source": [
    "summ = 0\n",
    "for key in color:\n",
    "    summ = summ  + color[key]\n",
    "\n",
    "mean = summ / len(color)\n",
    "print(mean)"
   ]
  },
  {
   "cell_type": "markdown",
   "metadata": {},
   "source": [
    "#### 2 Which color is mostly worn throughout the week?"
   ]
  },
  {
   "cell_type": "code",
   "execution_count": 32,
   "metadata": {},
   "outputs": [
    {
     "name": "stdout",
     "output_type": "stream",
     "text": [
      "BLUE 31\n"
     ]
    }
   ],
   "source": [
    "mode = 0\n",
    "most_worn = str()\n",
    "for key in color:\n",
    "    if color[key] > mode:\n",
    "        mode = color[key]\n",
    "        most_worn = key\n",
    "\n",
    "print(most_worn, mode)"
   ]
  },
  {
   "cell_type": "markdown",
   "metadata": {},
   "source": [
    "#### 3 Which color is the median?"
   ]
  },
  {
   "cell_type": "code",
   "execution_count": 41,
   "metadata": {},
   "outputs": [
    {
     "name": "stdout",
     "output_type": "stream",
     "text": [
      "('BROWN', 6)\n"
     ]
    }
   ],
   "source": [
    "sorted_color_dict = sorted(color.items(), key=lambda x: x[1])\n",
    "\n",
    "print(sorted_color_dict[int(len(sorted_color_dict)/2)])"
   ]
  },
  {
   "cell_type": "markdown",
   "metadata": {},
   "source": [
    "#### 4 BONUS Get the variance of the colors"
   ]
  },
  {
   "cell_type": "code",
   "execution_count": 46,
   "metadata": {},
   "outputs": [
    {
     "name": "stdout",
     "output_type": "stream",
     "text": [
      "[10, 5, 6, 31, 5, 9, 2, 9, 16, 1, 1]\n"
     ]
    }
   ],
   "source": [
    "color_vals = []\n",
    "#get color values\n",
    "for key in color:\n",
    "    color_vals.append(color[key])\n",
    "print(color_vals)\n",
    "\n",
    "#convert to a numpy array and find variance\n",
    "color_vals = np.array(color_vals)\n",
    "np.var(color_vals)"
   ]
  },
  {
   "cell_type": "markdown",
   "metadata": {},
   "source": [
    "#### 5 BONUS if a colour is chosen at random, what is the probability that the color is red?"
   ]
  },
  {
   "cell_type": "code",
   "execution_count": 52,
   "metadata": {},
   "outputs": [
    {
     "name": "stdout",
     "output_type": "stream",
     "text": [
      "0.09473684210526316\n"
     ]
    }
   ],
   "source": [
    "#probability that the color is red\n",
    "print(color['RED']/summ)"
   ]
  },
  {
   "cell_type": "markdown",
   "metadata": {},
   "source": [
    "#### 6 Save the colours and their frequencies in postgresql database"
   ]
  },
  {
   "cell_type": "code",
   "execution_count": null,
   "metadata": {},
   "outputs": [],
   "source": [
    "import psycopg2\n",
    "from config import config\n",
    "\n",
    "def create_table():\n",
    "    \"\"\" create tables in PostgreSQL database\"\"\"\n",
    "    commands = (\n",
    "        \"\"\"\n",
    "        CREATE TABLE color (\n",
    "            color_id INT PRIMARY KEY,\n",
    "        \tcolor_value INT NOT NULL,\n",
    "            color_name VARCHAR(255) NOT NULL\n",
    "        )\n",
    "        \"\"\")\n",
    "\n",
    "    conn = None\n",
    "    try:\n",
    "        params = config()\n",
    "        conn = psycopg2.connect(**params)\n",
    "        cur = conn.cursor()\n",
    "        for command in commands:\n",
    "            cur.execute(command)\n",
    "        cur.close()\n",
    "        conn.commit()\n",
    "    except (Exception, psycopg2.DatabaseError) as error:\n",
    "        print(error)\n",
    "    finally:\n",
    "        if conn is not None:\n",
    "            conn.close()\n",
    "\n",
    "def insert_color(color_name):\n",
    "    # insert a new color into the colors table\n",
    "    sql = \"\"\"INSERT INTO color(color_name)\n",
    "             VALUES(%s) RETURNING color_id;\"\"\"\n",
    "    conn = None\n",
    "    color_id = None\n",
    "    try:\n",
    "        params = config()\n",
    "        conn = psycopg2.connect(**params)\n",
    "        cur = conn.cursor()\n",
    "        cur.execute(sql, (color_name,))\n",
    "        color_id = cur.fetchone()[0]\n",
    "        conn.commit()\n",
    "        cur.close()\n",
    "    except (Exception, psycopg2.DatabaseError) as error:\n",
    "        print(error)\n",
    "    finally:\n",
    "        if conn is not None:\n",
    "            conn.close()\n",
    "\n",
    "    return color_id\n",
    "\n",
    "\n",
    "if __name__ == '__main__':\n",
    "\t#create table\n",
    "    create_table()\n",
    "    #insert color\n",
    "    for key in color:\n",
    "        insert_color(key)"
   ]
  },
  {
   "cell_type": "markdown",
   "metadata": {},
   "source": [
    "#### 7 . BONUS write a recursive searching algorithm to search for a number entered by user in a list of numbers"
   ]
  },
  {
   "cell_type": "code",
   "execution_count": 55,
   "metadata": {},
   "outputs": [
    {
     "name": "stdout",
     "output_type": "stream",
     "text": [
      "4\n"
     ]
    }
   ],
   "source": [
    "def search( arr, l, r, x): \n",
    "    if r < l: \n",
    "        return -1\n",
    "    if arr[l] == x: \n",
    "        return l \n",
    "    if arr[r] == x: \n",
    "        return r \n",
    "    return search(arr, l+1, r-1, x) \n",
    "  \n",
    "arr = [12, 34, 54, 2, 3] \n",
    "n = len(arr) \n",
    "x = 3\n",
    "index = search(arr, 0, n-1, x) \n",
    "if index != -1: \n",
    "    print(index) \n",
    "else: \n",
    "    print(x) "
   ]
  },
  {
   "cell_type": "markdown",
   "metadata": {},
   "source": [
    "#### 8 Write a program that generates random 4 digits number of 0s and 1s and convert the generated number to base 10"
   ]
  },
  {
   "cell_type": "code",
   "execution_count": 68,
   "metadata": {},
   "outputs": [
    {
     "data": {
      "text/plain": [
       "5"
      ]
     },
     "execution_count": 68,
     "metadata": {},
     "output_type": "execute_result"
    }
   ],
   "source": [
    "import random \n",
    "# create random binary string \n",
    "def random_binary(p): \n",
    "    \n",
    "    # Variable to store the string \n",
    "    key = \"\" \n",
    "  \n",
    "    # Loop to find the string of desired length \n",
    "    for i in range(p): \n",
    "        temp = str(random.randint(0, 1)) \n",
    "  \n",
    "        # Concatenatin the random 0, 1 \n",
    "        # to the final result \n",
    "        key += temp \n",
    "          \n",
    "    return(key) \n",
    "  \n",
    "def toDecimal(n): \n",
    "    return int(n,2) \n",
    "    \n",
    "toDecimal(random_binary(4))"
   ]
  },
  {
   "cell_type": "markdown",
   "metadata": {},
   "source": [
    "#### 9. Write a program to sum the first 50 Fibonacci sequence"
   ]
  },
  {
   "cell_type": "code",
   "execution_count": 69,
   "metadata": {},
   "outputs": [
    {
     "name": "stdout",
     "output_type": "stream",
     "text": [
      "[0, 1, 1, 2, 3, 5, 8, 13, 21, 34, 55, 89, 144, 233, 377, 610, 987, 1597, 2584, 4181, 6765, 10946, 17711, 28657, 46368, 75025, 121393, 196418, 317811, 514229, 832040, 1346269, 2178309, 3524578, 5702887, 9227465, 14930352, 24157817, 39088169, 63245986, 102334155, 165580141, 267914296, 433494437, 701408733, 1134903170, 1836311903, 2971215073, 4807526976, 7778742049]\n"
     ]
    }
   ],
   "source": [
    "def fibonacci(seq):\n",
    "\tfib_list = [0, 1]\n",
    "\tfor i in range(seq - 2):\n",
    "\t\tfib_len = len(fib_list)\n",
    "\t\tfib_list.append(fib_list[fib_len - 2] + fib_list[fib_len - 1])\n",
    "\tprint(fib_list)\n",
    "\n",
    "fibonacci(50)"
   ]
  }
 ],
 "metadata": {
  "kernelspec": {
   "display_name": "Python 3",
   "language": "python",
   "name": "python3"
  },
  "language_info": {
   "codemirror_mode": {
    "name": "ipython",
    "version": 3
   },
   "file_extension": ".py",
   "mimetype": "text/x-python",
   "name": "python",
   "nbconvert_exporter": "python",
   "pygments_lexer": "ipython3",
   "version": "3.7.6"
  }
 },
 "nbformat": 4,
 "nbformat_minor": 4
}
